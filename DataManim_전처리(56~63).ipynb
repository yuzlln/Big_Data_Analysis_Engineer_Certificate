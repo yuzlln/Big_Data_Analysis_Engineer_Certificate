{
 "cells": [
  {
   "cell_type": "markdown",
   "metadata": {},
   "source": [
    "# 4. Apply & Map"
   ]
  },
  {
   "cell_type": "code",
   "execution_count": 1,
   "metadata": {},
   "outputs": [],
   "source": [
    "import pandas as pd \n",
    "import numpy as np"
   ]
  },
  {
   "cell_type": "markdown",
   "metadata": {},
   "source": [
    "56. 데이터를 로드하고 데이터 행과 열의 갯수를 출력하라"
   ]
  },
  {
   "cell_type": "code",
   "execution_count": 11,
   "metadata": {},
   "outputs": [
    {
     "name": "stdout",
     "output_type": "stream",
     "text": [
      "행 : 10127 \n",
      "열 : 19\n"
     ]
    }
   ],
   "source": [
    "DataURL = 'https://raw.githubusercontent.com/Datamanim/pandas/main/BankChurnersUp.csv'\n",
    "df = pd.read_csv(DataURL)\n",
    "\n",
    "ans = print('행 : %s \\n열 : %s' % (df.shape[0], df.shape[1]))\n",
    "ans"
   ]
  },
  {
   "cell_type": "markdown",
   "metadata": {},
   "source": [
    "57. Income_Category의 카테고리를 map 함수를 이용하여 다음과 같이 변경하여 newIncome 컬럼에 매핑하라 <br>\n",
    "Unknown        : N    \n",
    "Less than \\$40K : a    \n",
    "\\$40K - \\$60K    : b    \n",
    "\\$60K - \\$80K    : c    \n",
    "\\$80K - \\$120K   : d    \n",
    "\\$120K +'       : e    "
   ]
  },
  {
   "cell_type": "code",
   "execution_count": 12,
   "metadata": {},
   "outputs": [
    {
     "data": {
      "text/plain": [
       "Income_Category\n",
       "Less than $40K    3561\n",
       "$40K - $60K       1790\n",
       "$80K - $120K      1535\n",
       "$60K - $80K       1402\n",
       "Unknown           1112\n",
       "$120K +            727\n",
       "Name: count, dtype: int64"
      ]
     },
     "execution_count": 12,
     "metadata": {},
     "output_type": "execute_result"
    }
   ],
   "source": [
    "# Income_Category 확인\n",
    "df['Income_Category'].value_counts()"
   ]
  },
  {
   "cell_type": "code",
   "execution_count": 13,
   "metadata": {},
   "outputs": [
    {
     "data": {
      "text/plain": [
       "0    c\n",
       "1    a\n",
       "2    d\n",
       "3    a\n",
       "4    c\n",
       "Name: newIncome, dtype: object"
      ]
     },
     "execution_count": 13,
     "metadata": {},
     "output_type": "execute_result"
    }
   ],
   "source": [
    "dic = {'Unknown' : 'N'\n",
    "       , 'Less than $40K' : 'a'\n",
    "       , '$40K - $60K' : 'b'\n",
    "       , '$60K - $80K' : 'c'\n",
    "       , '$80K - $120K' : 'd'\n",
    "       , '$120K +' : 'e'}\n",
    "\n",
    "df['newIncome'] = df['Income_Category'].map(lambda x : dic[x])\n",
    "\n",
    "ans = df['newIncome']\n",
    "ans.head()"
   ]
  },
  {
   "cell_type": "markdown",
   "metadata": {},
   "source": [
    "58. 다른 방법 (#57과 동일한 문제)"
   ]
  },
  {
   "cell_type": "code",
   "execution_count": 14,
   "metadata": {},
   "outputs": [
    {
     "data": {
      "text/plain": [
       "0    c\n",
       "1    a\n",
       "2    d\n",
       "3    a\n",
       "4    c\n",
       "Name: newIncome_1, dtype: object"
      ]
     },
     "execution_count": 14,
     "metadata": {},
     "output_type": "execute_result"
    }
   ],
   "source": [
    "def changeCategory(x) :\n",
    "    if x == 'Unknown' :\n",
    "        return 'N'\n",
    "    elif x == 'Less than $40K' :\n",
    "        return 'a'\n",
    "    elif x == '$40K - $60K' :\n",
    "        return 'b'\n",
    "    elif x == '$60K - $80K' :\n",
    "        return 'c'\n",
    "    elif x == '$80K - $120K' :\n",
    "        return 'd'\n",
    "    else : \n",
    "        return 'e'\n",
    "    \n",
    "df['newIncome_1'] = df['Income_Category'].apply(changeCategory)\n",
    "\n",
    "ans = df['newIncome_1']\n",
    "ans.head()"
   ]
  },
  {
   "cell_type": "markdown",
   "metadata": {},
   "source": [
    "59. Customer_Age의 값을 이용하여 나이 구간을 AgeState 컬럼으로 정의하고 각 구간의 빈도수를 출력하라 (0~9 : 0 , 10~19 : 10 , 20~29 : 20, ...)"
   ]
  },
  {
   "cell_type": "code",
   "execution_count": 17,
   "metadata": {},
   "outputs": [
    {
     "data": {
      "text/plain": [
       "AgeState\n",
       "20     195\n",
       "30    1841\n",
       "40    4561\n",
       "50    2998\n",
       "60     530\n",
       "70       2\n",
       "Name: count, dtype: int64"
      ]
     },
     "execution_count": 17,
     "metadata": {},
     "output_type": "execute_result"
    }
   ],
   "source": [
    "df['AgeState'] = df['Customer_Age'].map(lambda x : x//10 * 10)\n",
    "\n",
    "ans = df['AgeState'].value_counts().sort_index()\n",
    "ans"
   ]
  },
  {
   "cell_type": "markdown",
   "metadata": {},
   "source": [
    "60. Education_Level의 값중 Graduate단어가 포함되는 값은 1 그렇지 않은 경우에는 0으로 변경하여 newEduLevel 컬럼을 정의하고 빈도수를 출력하라"
   ]
  },
  {
   "cell_type": "code",
   "execution_count": 21,
   "metadata": {},
   "outputs": [
    {
     "data": {
      "text/plain": [
       "newEduLevel\n",
       "0    6483\n",
       "1    3644\n",
       "Name: count, dtype: int64"
      ]
     },
     "execution_count": 21,
     "metadata": {},
     "output_type": "execute_result"
    }
   ],
   "source": [
    "df['newEduLevel'] = df['Education_Level'].map(lambda x : 1 if 'Graduate' in x else 0)\n",
    "\n",
    "ans = df['newEduLevel'].value_counts()\n",
    "ans"
   ]
  },
  {
   "cell_type": "markdown",
   "metadata": {},
   "source": [
    "61. Credit_Limit 컬럼값이 4500 이상인 경우 1 그외의 경우에는 모두 0으로 하는 newLimit 정의하라. newLimit 각 값들의 빈도수를 출력하라"
   ]
  },
  {
   "cell_type": "code",
   "execution_count": 24,
   "metadata": {},
   "outputs": [
    {
     "data": {
      "text/plain": [
       "newLimit\n",
       "1    5096\n",
       "0    5031\n",
       "Name: count, dtype: int64"
      ]
     },
     "execution_count": 24,
     "metadata": {},
     "output_type": "execute_result"
    }
   ],
   "source": [
    "df['newLimit'] = df['Credit_Limit'].map(lambda x : 1 if x >= 4500 else 0)\n",
    "\n",
    "ans = df['newLimit'].value_counts()\n",
    "ans"
   ]
  },
  {
   "cell_type": "markdown",
   "metadata": {},
   "source": [
    "62. Marital_Status 컬럼값이 Married 이고 Card_Category 컬럼의 값이 Platinum인 경우 1 그외의 경우에는 모두 0으로 하는 newState컬럼을 정의하라. newState의 각 값들의 빈도수를 출력하라"
   ]
  },
  {
   "cell_type": "code",
   "execution_count": 25,
   "metadata": {},
   "outputs": [
    {
     "data": {
      "text/plain": [
       "newState\n",
       "0    10120\n",
       "1        7\n",
       "Name: count, dtype: int64"
      ]
     },
     "execution_count": 25,
     "metadata": {},
     "output_type": "execute_result"
    }
   ],
   "source": [
    "def state(x) :\n",
    "    if x.Marital_Status == 'Married' and x.Card_Category == 'Platinum' :\n",
    "        return 1\n",
    "    else :\n",
    "        return 0\n",
    "\n",
    "df['newState'] = df.apply(state, axis=1)\n",
    "\n",
    "ans = df['newState'].value_counts()\n",
    "ans"
   ]
  },
  {
   "cell_type": "markdown",
   "metadata": {},
   "source": [
    "63. Gender 컬럼값 M인 경우 male, F인 경우 female로 값을 변경하여 Gender 컬럼에 새롭게 정의하라. 각 value의 빈도를 출력하라"
   ]
  },
  {
   "cell_type": "code",
   "execution_count": 26,
   "metadata": {},
   "outputs": [
    {
     "data": {
      "text/plain": [
       "Gender\n",
       "female    5358\n",
       "male      4769\n",
       "Name: count, dtype: int64"
      ]
     },
     "execution_count": 26,
     "metadata": {},
     "output_type": "execute_result"
    }
   ],
   "source": [
    "def gender(x) :\n",
    "    if x == 'M' :\n",
    "        return 'male'\n",
    "    else :\n",
    "        return 'female'\n",
    "\n",
    "df['Gender'] = df['Gender'].apply(gender)\n",
    "\n",
    "ans = df['Gender'].value_counts()\n",
    "ans"
   ]
  }
 ],
 "metadata": {
  "kernelspec": {
   "display_name": "base",
   "language": "python",
   "name": "python3"
  },
  "language_info": {
   "codemirror_mode": {
    "name": "ipython",
    "version": 3
   },
   "file_extension": ".py",
   "mimetype": "text/x-python",
   "name": "python",
   "nbconvert_exporter": "python",
   "pygments_lexer": "ipython3",
   "version": "3.11.5"
  }
 },
 "nbformat": 4,
 "nbformat_minor": 2
}
